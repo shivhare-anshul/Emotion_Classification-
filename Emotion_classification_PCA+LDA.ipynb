{
 "cells": [
  {
   "cell_type": "markdown",
   "metadata": {},
   "source": [
    "\n",
    "### Import libraries"
   ]
  },
  {
   "cell_type": "code",
   "execution_count": 1,
   "metadata": {},
   "outputs": [],
   "source": [
    "import os\n",
    "import numpy as np\n",
    "from PIL import Image\n",
    "import seaborn as sns\n",
    "import subprocess as sp\n",
    "import matplotlib.pyplot as plt\n",
    "from collections import Counter"
   ]
  },
  {
   "cell_type": "markdown",
   "metadata": {},
   "source": [
    "### Set paths"
   ]
  },
  {
   "cell_type": "code",
   "execution_count": 2,
   "metadata": {},
   "outputs": [],
   "source": [
    "path = './emotion_classification/'\n",
    "train_path = os.path.join(path, 'train')\n",
    "test_path = os.path.join(path, 'test')"
   ]
  },
  {
   "cell_type": "markdown",
   "metadata": {},
   "source": [
    "### Load files"
   ]
  },
  {
   "cell_type": "code",
   "execution_count": 3,
   "metadata": {},
   "outputs": [],
   "source": [
    "train_files = sp.getoutput(f'ls {train_path} | grep .gif').split(\"\\n\")\n",
    "test_files = sp.getoutput(f'ls {test_path} | grep .gif').split(\"\\n\")"
   ]
  },
  {
   "cell_type": "code",
   "execution_count": 4,
   "metadata": {},
   "outputs": [],
   "source": [
    "train_files = [os.path.join(train_path, f_name) for f_name in train_files]\n",
    "test_files = [os.path.join(test_path, f_name) for f_name in test_files]"
   ]
  },
  {
   "cell_type": "markdown",
   "metadata": {},
   "source": [
    "### Extract labels for data"
   ]
  },
  {
   "cell_type": "code",
   "execution_count": 5,
   "metadata": {},
   "outputs": [],
   "source": [
    "train_y = np.array([1 if 'happy' in f_name else 0 for f_name in train_files])\n",
    "test_y = np.array([1 if 'happy' in f_name else 0 for f_name in test_files])"
   ]
  },
  {
   "cell_type": "markdown",
   "metadata": {},
   "source": [
    "### Create feature matrix"
   ]
  },
  {
   "cell_type": "code",
   "execution_count": 6,
   "metadata": {},
   "outputs": [],
   "source": [
    "train_x = np.stack([np.array(Image.open(f_name)).reshape(-1) for f_name in train_files])\n",
    "test_x = np.stack([np.array(Image.open(f_name)).reshape(-1) for f_name in test_files])"
   ]
  },
  {
   "cell_type": "markdown",
   "metadata": {},
   "source": [
    "### Mean normalization"
   ]
  },
  {
   "cell_type": "code",
   "execution_count": 7,
   "metadata": {},
   "outputs": [],
   "source": [
    "mean = train_x.mean(axis=0)\n",
    "train_x = train_x - mean\n",
    "test_x = test_x - mean"
   ]
  },
  {
   "cell_type": "markdown",
   "metadata": {},
   "source": [
    "### Computing the PCA components"
   ]
  },
  {
   "cell_type": "code",
   "execution_count": 8,
   "metadata": {},
   "outputs": [],
   "source": [
    "# we will use SVD decomposition to extract the principal components\n",
    "# A = U S Vt\n",
    "# columns of matrix V are the eigen(here right singular) vectors of the covariance matrix.\n",
    "# The vectors are already sorted according to their values\n",
    "U, S, Vt = np.linalg.svd(train_x, full_matrices=True)"
   ]
  },
  {
   "cell_type": "code",
   "execution_count": 9,
   "metadata": {},
   "outputs": [
    {
     "data": {
      "text/plain": [
       "array([8.13518673e+07, 3.93221461e+07, 3.24692516e+07, 1.93360217e+07,\n",
       "       1.53448924e+07, 1.48530491e+07, 1.25407327e+07, 1.00795877e+07,\n",
       "       7.86345772e+06, 7.54817924e+06, 6.45100542e+06, 6.26153115e+06,\n",
       "       4.74969176e+06, 4.23894861e+06, 3.60987178e+06, 3.39283628e+06,\n",
       "       2.89195650e+06, 2.46185219e+06, 1.73952015e+06, 5.86544798e-24])"
      ]
     },
     "execution_count": 9,
     "metadata": {},
     "output_type": "execute_result"
    }
   ],
   "source": [
    "# eigen values are\n",
    "S ** 2"
   ]
  },
  {
   "cell_type": "markdown",
   "metadata": {},
   "source": [
    "As there are only 20 singular values we can restrict the value of K to be used for LDA to lie in the range 1 to 20"
   ]
  },
  {
   "cell_type": "code",
   "execution_count": 10,
   "metadata": {},
   "outputs": [],
   "source": [
    "# PCA components\n",
    "components = Vt.T"
   ]
  },
  {
   "cell_type": "markdown",
   "metadata": {},
   "source": [
    "### Setting the value of K"
   ]
  },
  {
   "cell_type": "code",
   "execution_count": 11,
   "metadata": {},
   "outputs": [],
   "source": [
    "# we will perform this for only a single value of K\n",
    "# it is expected that you can modify the code\n",
    "# by introducing helper functions, to run\n",
    "# the analysis for other different values\n",
    "K = 16"
   ]
  },
  {
   "cell_type": "code",
   "execution_count": 12,
   "metadata": {},
   "outputs": [],
   "source": [
    "pca_k_train_x = np.matmul(train_x, components[: , :K])\n",
    "pca_k_test_x = np.matmul(test_x, components[: , :K])"
   ]
  },
  {
   "cell_type": "code",
   "execution_count": 13,
   "metadata": {},
   "outputs": [
    {
     "data": {
      "text/plain": [
       "((20, 16), (10, 16))"
      ]
     },
     "execution_count": 13,
     "metadata": {},
     "output_type": "execute_result"
    }
   ],
   "source": [
    "pca_k_train_x.shape, pca_k_test_x.shape"
   ]
  },
  {
   "cell_type": "markdown",
   "metadata": {},
   "source": [
    "### Performing LDA"
   ]
  },
  {
   "cell_type": "code",
   "execution_count": 14,
   "metadata": {},
   "outputs": [],
   "source": [
    "# class means\n",
    "M0 = pca_k_train_x[train_y == 0].mean(axis=0)\n",
    "M1 = pca_k_train_x[train_y == 1].mean(axis=0)"
   ]
  },
  {
   "cell_type": "code",
   "execution_count": 15,
   "metadata": {},
   "outputs": [],
   "source": [
    "# between class scatter matrix\n",
    "S_b = np.outer((M1 - M0), (M1 - M0).T)"
   ]
  },
  {
   "cell_type": "code",
   "execution_count": 16,
   "metadata": {},
   "outputs": [],
   "source": [
    "# within class scatter matrix\n",
    "S_w = np.zeros_like(S_b)\n",
    "for i, sample in enumerate(pca_k_train_x):\n",
    "    if train_y[i] == 0:\n",
    "        S_w = S_w + np.outer((sample - M0), (sample - M0).T)\n",
    "    else:\n",
    "        S_w = S_w + np.outer((sample - M1), (sample - M1).T)"
   ]
  },
  {
   "cell_type": "code",
   "execution_count": 17,
   "metadata": {},
   "outputs": [],
   "source": [
    "'''The following is a slightly different approach for finding the projection vector'''\n",
    "# for linear projection constants don't make a difference, so\n",
    "# W = lambda (inv(S_w) @ S_b @ W)\n",
    "# S_b @ W = (M1 - M0) @ (M1 - M0).T @ W = k (M1 - M0), where k = (m1 - m0)\n",
    "# Thus, W = inv(S_w) @ (M1 - M0)\n",
    "W = np.matmul(np.linalg.inv(S_w), (M1 - M0).reshape(-1, 1))"
   ]
  },
  {
   "cell_type": "markdown",
   "metadata": {},
   "source": [
    "### LDA Transformation"
   ]
  },
  {
   "cell_type": "code",
   "execution_count": 18,
   "metadata": {},
   "outputs": [],
   "source": [
    "lda_train_x = np.matmul(pca_k_train_x, W).reshape(-1)\n",
    "lda_test_x = np.matmul(pca_k_test_x, W).reshape(-1)"
   ]
  },
  {
   "cell_type": "markdown",
   "metadata": {},
   "source": [
    "### Finding Threshold"
   ]
  },
  {
   "cell_type": "code",
   "execution_count": 19,
   "metadata": {},
   "outputs": [],
   "source": [
    "# find max and min value for the projected value of each class\n",
    "max_0, min_0 = np.max(lda_train_x[train_y == 0]), np.min(lda_train_x[train_y == 0])\n",
    "max_1, min_1 = np.max(lda_train_x[train_y == 1]), np.min(lda_train_x[train_y == 1])"
   ]
  },
  {
   "cell_type": "code",
   "execution_count": 20,
   "metadata": {},
   "outputs": [],
   "source": [
    "# maximum separability threshold - heuristic\n",
    "threshold_start, threshold_end = min(max_0, max_1), max(min_0, min_1)\n",
    "optimal_threshold = (threshold_start + threshold_end) / 2\n",
    "# threshold value after multiple runs with different values of K\n",
    "# can be seen to be closer to 0. \n",
    "# Using optimal_threshold = 0 is thus a better choice than using the\n",
    "# above heuristic"
   ]
  },
  {
   "cell_type": "markdown",
   "metadata": {},
   "source": [
    "### Visualize the separation for train and test set"
   ]
  },
  {
   "cell_type": "code",
   "execution_count": 21,
   "metadata": {
    "scrolled": true
   },
   "outputs": [
    {
     "data": {
      "image/png": "[encoded data removed]",
      "text/plain": [
       "<Figure size 432x288 with 1 Axes>"
      ]
     },
     "metadata": {
      "needs_background": "light"
     },
     "output_type": "display_data"
    }
   ],
   "source": [
    "sns.scatterplot(x=lda_train_x, y=[0]*len(train_y), hue=['happy' if s_class == 1 else 'sad' for s_class in train_y], palette=['blue', 'green'])\n",
    "plt.vlines(optimal_threshold, -1, 1, colors='r', linestyles='--', label='threshold')\n",
    "plt.xlabel('One dimension feature values')\n",
    "plt.yticks([])\n",
    "plt.title('Training Data Projection')\n",
    "plt.legend()\n",
    "plt.show()"
   ]
  },
  {
   "cell_type": "code",
   "execution_count": 22,
   "metadata": {},
   "outputs": [
    {
     "data": {
      "image/png": "[encoded data removed]",
      "text/plain": [
       "<Figure size 432x288 with 1 Axes>"
      ]
     },
     "metadata": {
      "needs_background": "light"
     },
     "output_type": "display_data"
    }
   ],
   "source": [
    "sns.scatterplot(x=lda_test_x, y=[0]*len(test_y), hue=['happy' if s_class == 1 else 'sad' for s_class in test_y], palette=['green', 'blue'])\n",
    "plt.vlines(optimal_threshold, -1, 1, colors='r', linestyles='--', label='threshold')\n",
    "plt.xlabel('One dimension feature values')\n",
    "plt.yticks([])\n",
    "plt.title('Test Data Projection')\n",
    "plt.legend()\n",
    "plt.show()"
   ]
  },
  {
   "cell_type": "markdown",
   "metadata": {},
   "source": [
    "### Accuracy on test set"
   ]
  },
  {
   "cell_type": "code",
   "execution_count": 23,
   "metadata": {},
   "outputs": [],
   "source": [
    "# find which side of the threshold majority of a particular label resides\n",
    "class_1_train_labels = Counter([1 if sample_class >= optimal_threshold else -1\n",
    "                                    for sample_class in lda_train_x[train_y == 1]])\n",
    "class_1_majority = class_1_train_labels.most_common()[0][0]"
   ]
  },
  {
   "cell_type": "code",
   "execution_count": 24,
   "metadata": {},
   "outputs": [
    {
     "data": {
      "text/plain": [
       "1"
      ]
     },
     "execution_count": 24,
     "metadata": {},
     "output_type": "execute_result"
    }
   ],
   "source": [
    "class_1_majority"
   ]
  },
  {
   "cell_type": "code",
   "execution_count": 25,
   "metadata": {},
   "outputs": [
    {
     "data": {
      "text/plain": [
       "90.0"
      ]
     },
     "execution_count": 25,
     "metadata": {},
     "output_type": "execute_result"
    }
   ],
   "source": [
    "classification_test_labels = [1 if class_1_majority * sample_class >= class_1_majority * optimal_threshold else 0 \n",
    "                                  for sample_class in lda_test_x]\n",
    "accuracy = sum([yhat == y for yhat, y in zip(classification_test_labels, test_y)]) / len(test_y) * 100\n",
    "accuracy"
   ]
  },
  {
   "cell_type": "markdown",
   "metadata": {},
   "source": [
    "### Separability measure"
   ]
  },
  {
   "cell_type": "code",
   "execution_count": 26,
   "metadata": {},
   "outputs": [
    {
     "data": {
      "text/plain": [
       "2.0044757846726675"
      ]
     },
     "execution_count": 26,
     "metadata": {},
     "output_type": "execute_result"
    }
   ],
   "source": [
    "J = ((W.T @ S_b @ W) / (W.T @ S_w @ W))[0, 0]\n",
    "J"
   ]
  }
 ],
 "metadata": {
  "kernelspec": {
   "display_name": "Python 3",
   "language": "python",
   "name": "python3"
  },
  "language_info": {
   "codemirror_mode": {
    "name": "ipython",
    "version": 3
   },
   "file_extension": ".py",
   "mimetype": "text/x-python",
   "name": "python",
   "nbconvert_exporter": "python",
   "pygments_lexer": "ipython3",
   "version": "3.8.3"
  }
 },
 "nbformat": 4,
 "nbformat_minor": 4
}
